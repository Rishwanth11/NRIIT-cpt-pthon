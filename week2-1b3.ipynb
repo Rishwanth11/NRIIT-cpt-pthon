{
 "cells": [
  {
   "cell_type": "code",
   "execution_count": 1,
   "id": "f8350d44-9593-4286-9faa-3d8f75cb1139",
   "metadata": {},
   "outputs": [
    {
     "name": "stdout",
     "output_type": "stream",
     "text": [
      "10\n",
      "100\n"
     ]
    }
   ],
   "source": [
    "# global and  local variables\n",
    "num=10\n",
    "print(num)\n",
    "def modify():\n",
    "    global num\n",
    "    num=100\n",
    "modify()\n",
    "print(num)"
   ]
  },
  {
   "cell_type": "code",
   "execution_count": 3,
   "id": "24cba67d-2bf8-4c6c-85f5-8806e1061073",
   "metadata": {},
   "outputs": [
    {
     "name": "stdout",
     "output_type": "stream",
     "text": [
      "initial state:False\n",
      "state after first toggle:True\n",
      "state after secound toggle:False\n",
      "state after third toggle:True\n"
     ]
    }
   ],
   "source": [
    "#toggle state function\n",
    "#toggling a global flag\n",
    "#manipulating the value in the global and local variables\n",
    "is_active=False\n",
    "def toggle_state():\n",
    "    global is_active \n",
    "    is_active= not is_active\n",
    "    return is_active\n",
    "print(f\"initial state:{is_active}\")\n",
    "toggle_state()\n",
    "print(f\"state after first toggle:{is_active}\")\n",
    "toggle_state()\n",
    "print(f\"state after secound toggle:{is_active}\")\n",
    "toggle_state()\n",
    "print(f\"state after third toggle:{is_active}\")"
   ]
  },
  {
   "cell_type": "code",
   "execution_count": 5,
   "id": "08262f88-386d-4167-8cdb-a3ade8354bbd",
   "metadata": {},
   "outputs": [
    {
     "name": "stdin",
     "output_type": "stream",
     "text": [
      "enter a: 10\n",
      "enter b: 49\n"
     ]
    },
    {
     "name": "stdout",
     "output_type": "stream",
     "text": [
      "resultant sum:59\n"
     ]
    }
   ],
   "source": [
    "#annotations\n",
    "def add(a:int,b:int)->int:\n",
    "    return a+b\n",
    "a=int(input(\"enter a:\"))\n",
    "b=int(input(\"enter b:\"))\n",
    "print(f\"resultant sum:{add(a,b)}\")"
   ]
  },
  {
   "cell_type": "code",
   "execution_count": 7,
   "id": "3f6aa34f-7f6e-4c97-8051-ba06ede8b25a",
   "metadata": {},
   "outputs": [
    {
     "name": "stdout",
     "output_type": "stream",
     "text": [
      "area default:8\n"
     ]
    },
    {
     "name": "stdin",
     "output_type": "stream",
     "text": [
      "enter the lenght: 4\n",
      "enter the breadth: 4\n"
     ]
    },
    {
     "name": "stdout",
     "output_type": "stream",
     "text": [
      "area of the rectangle is 16.0\n"
     ]
    },
    {
     "name": "stdin",
     "output_type": "stream",
     "text": [
      "enter the lenght: 5\n",
      "enter the breadth: 6\n"
     ]
    },
    {
     "name": "stdout",
     "output_type": "stream",
     "text": [
      "area of the rectangle is 30.0\n"
     ]
    }
   ],
   "source": [
    "'''\n",
    "write a program to find the area of a rectangle of 2 values \n",
    "which was associated with a single annotations and \n",
    "return the values accordingly\n",
    "'''\n",
    "a=2\n",
    "b=4\n",
    "def area(a:int,b:int)->float:\n",
    "    return a*b\n",
    "print(f\"area default:{area(a,b)}\")\n",
    "x=float(input(\"enter the lenght:\"))\n",
    "y=float(input(\"enter the breadth:\"))\n",
    "print(f\"area of the rectangle is {area(x,y)}\")\n",
    "m=float(input(\"enter the lenght:\"))\n",
    "n=float(input(\"enter the breadth:\"))\n",
    "print(f\"area of the rectangle is {area(m,n)}\")"
   ]
  },
  {
   "cell_type": "code",
   "execution_count": 9,
   "id": "6c7a260f-ef68-48b0-b127-6fb74f6b3e74",
   "metadata": {},
   "outputs": [
    {
     "name": "stdout",
     "output_type": "stream",
     "text": [
      "vijay mark Rishi\n",
      "CSE-ECE\n"
     ]
    }
   ],
   "source": [
    "#seperator function\n",
    "from typing import List,Optional\n",
    "def names(n:List[str],seperator:Optional[str]=' ')->str:\n",
    "    return seperator.join(n)\n",
    "print(names(['vijay','mark','Rishi']))\n",
    "print(names(['CSE','ECE'],seperator='-'))"
   ]
  },
  {
   "cell_type": "code",
   "execution_count": 11,
   "id": "f15f57d0-21c9-488e-bcca-edd339c63481",
   "metadata": {},
   "outputs": [
    {
     "name": "stdin",
     "output_type": "stream",
     "text": [
      "enter numbers seperated by spaces: 1 2 3 4 5\n"
     ]
    },
    {
     "name": "stdout",
     "output_type": "stream",
     "text": [
      "[1.0, 2.0, 3.0, 4.0, 5.0]\n",
      "Sum:15.0\n"
     ]
    }
   ],
   "source": [
    "\n",
    "#tuple arg keyword functions\n",
    "#program to find the sum of n user input values\n",
    "#by tuple args syntax def udn(*args):\n",
    "def sumnum(*args):\n",
    "    return sum(args)\n",
    "nums=input(\"enter numbers seperated by spaces:\")\n",
    "numbers=[float(x) for x in nums.split()]\n",
    "print(numbers)\n",
    "result=sumnum(*numbers)\n",
    "print(f\"Sum:{result}\")"
   ]
  },
  {
   "cell_type": "code",
   "execution_count": 13,
   "id": "78ab2ffc-98ee-4373-a397-46f52fe5cc12",
   "metadata": {},
   "outputs": [
    {
     "name": "stdin",
     "output_type": "stream",
     "text": [
      "enter numbers seperated by space: 1 2 3 4 5\n"
     ]
    },
    {
     "name": "stdout",
     "output_type": "stream",
     "text": [
      "Sorted:[1, 2, 3, 4, 5]\n",
      "descending:[5, 4, 3, 2, 1]\n"
     ]
    }
   ],
   "source": [
    "\n",
    "'''\n",
    "sort a tuple and reverse it by using string operations\n",
    "'''\n",
    "from typing import List,Union\n",
    "def sortnum(*args):\n",
    "    return sorted(args)\n",
    "nums=input(\"enter numbers seperated by space:\")\n",
    "numbers=[int(x) for x in nums.split()]\n",
    "result=sortnum(*numbers)\n",
    "print(f\"Sorted:{result}\")\n",
    "x=result[::-1]\n",
    "print(f\"descending:{x}\")"
   ]
  },
  {
   "cell_type": "code",
   "execution_count": 17,
   "id": "7e980c5c-70f8-4fea-b7b6-4351027a0569",
   "metadata": {},
   "outputs": [
    {
     "name": "stdin",
     "output_type": "stream",
     "text": [
      "Enter Numerator: 10\n",
      "Enter Denominator: 20\n"
     ]
    },
    {
     "name": "stdout",
     "output_type": "stream",
     "text": [
      "Quotient: 0.5\n"
     ]
    }
   ],
   "source": [
    "num= int(input(\"Enter Numerator:\"))\n",
    "deno= int(input(\"Enter Denominator:\"))\n",
    "try:\n",
    "    q=num/deno\n",
    "    print(\"Quotient:\",q)\n",
    "except ZeroDivisionError:\n",
    "    print(\"Denominator cannot be a zero........\")"
   ]
  },
  {
   "cell_type": "code",
   "execution_count": 21,
   "id": "3398f9d0-e58a-46b7-8817-6653e2fe56e1",
   "metadata": {},
   "outputs": [
    {
     "name": "stdout",
     "output_type": "stream",
     "text": [
      "name:Rishi\n",
      "age:20\n"
     ]
    }
   ],
   "source": [
    "\n",
    "'''\n",
    "keyword arguments\n",
    "* -> numbers\n",
    "**args -> string with value uisng a dictionary\n",
    "key-value pair\n",
    "'''\n",
    "def info(**kwargs):\n",
    "    for key,value in kwargs.items():\n",
    "        print(f\"{key}:{value}\")\n",
    "info(name='Rishi',age=20)"
   ]
  },
  {
   "cell_type": "code",
   "execution_count": 23,
   "id": "eb6a0e4d-851c-4b28-86f5-e018cbca0028",
   "metadata": {},
   "outputs": [
    {
     "name": "stdout",
     "output_type": "stream",
     "text": [
      "Hello!\n",
      "name=>Rishi\n",
      "age=>20\n",
      "city=>Vijayawada\n",
      "language=>English\n"
     ]
    }
   ],
   "source": [
    "\n",
    "'''\n",
    "keyword arguments\n",
    "* -> numbers\n",
    "**args -> string with value uisng a dictionary\n",
    "key-value pair\n",
    "'''\n",
    "def info(hi,**kwargs):\n",
    "    print(hi)\n",
    "    for key,value in kwargs.items():\n",
    "        print(f\"{key}=>{value}\")\n",
    "info(\"Hello!\",name='Rishi',age='20',city='Vijayawada',language='English')"
   ]
  },
  {
   "cell_type": "code",
   "execution_count": null,
   "id": "d39a0f32-b6ec-4e30-bb59-7cdd3789acbc",
   "metadata": {},
   "outputs": [],
   "source": []
  }
 ],
 "metadata": {
  "kernelspec": {
   "display_name": "Python 3 (ipykernel)",
   "language": "python",
   "name": "python3"
  },
  "language_info": {
   "codemirror_mode": {
    "name": "ipython",
    "version": 3
   },
   "file_extension": ".py",
   "mimetype": "text/x-python",
   "name": "python",
   "nbconvert_exporter": "python",
   "pygments_lexer": "ipython3",
   "version": "3.12.7"
  }
 },
 "nbformat": 4,
 "nbformat_minor": 5
}
