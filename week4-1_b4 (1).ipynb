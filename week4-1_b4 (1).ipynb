{
 "cells": [
  {
   "cell_type": "code",
   "execution_count": 5,
   "id": "257615d7-2341-49ea-9ad0-dc9dbe1cd91d",
   "metadata": {},
   "outputs": [
    {
     "name": "stdin",
     "output_type": "stream",
     "text": [
      "Enter the number 1: 1\n",
      "Enter the number 2: 1\n",
      "Enter the number 3: 2\n",
      "Enter the number 4: 2\n",
      "Enter the number 5: 3\n",
      "Enter the number 6: 3\n",
      "Enter the number 7: 4\n",
      "Enter the number 8: 5\n",
      "Enter the number 9: 6\n",
      "Enter the number 10: 7\n"
     ]
    },
    {
     "name": "stdout",
     "output_type": "stream",
     "text": [
      "[1, 1, 2, 2, 3, 3, 4, 5, 6, 7]\n"
     ]
    }
   ],
   "source": [
    "'''List comprehension --------- input version \n",
    "[5, 7, 4, 3]\n",
    "for i in range(11)\n",
    "    n=int(input())\n",
    "    v=append.n()\n",
    "    print(i)'''\n",
    "#step by step input of LC\n",
    "n= [int(input(f\"Enter the number {i+1}:\")) for i in range(10)]\n",
    "print(n)"
   ]
  },
  {
   "cell_type": "code",
   "execution_count": 7,
   "id": "145c9b20-f107-4381-8a9e-ac16875fb2d3",
   "metadata": {},
   "outputs": [
    {
     "name": "stdin",
     "output_type": "stream",
     "text": [
      "Enter the range 6\n",
      "Enter the number 1: 1\n",
      "Enter the number 2: 2\n",
      "Enter the number 3: 3\n",
      "Enter the number 4: 45\n",
      "Enter the number 5: 5\n",
      "Enter the number 6: 6\n"
     ]
    },
    {
     "name": "stdout",
     "output_type": "stream",
     "text": [
      "[1, 2, 3, 45, 5, 6]\n"
     ]
    }
   ],
   "source": [
    "m=int(input(\"Enter the range\"))\n",
    "n= [int(input(f\"Enter the number {i+1}:\")) for i in range(m)]\n",
    "print(n)"
   ]
  },
  {
   "cell_type": "code",
   "execution_count": 21,
   "id": "f16f293a-e3bb-4b90-ade8-e8f8d0c54308",
   "metadata": {},
   "outputs": [
    {
     "name": "stdin",
     "output_type": "stream",
     "text": [
      "Enter 5 num with space 1 2 3 4 5 5\n"
     ]
    },
    {
     "name": "stdout",
     "output_type": "stream",
     "text": [
      "[1, 2, 3, 4, 5]\n"
     ]
    }
   ],
   "source": [
    "n=[int(x) for x in input(\"Enter 5 num with space\").split()[:5]]\n",
    "print(n)"
   ]
  },
  {
   "cell_type": "code",
   "execution_count": 17,
   "id": "156d06d8-1bc3-414b-bb53-c9a27a9ba305",
   "metadata": {},
   "outputs": [
    {
     "name": "stdin",
     "output_type": "stream",
     "text": [
      "Enter 5 num with space 1 2 3 4 5 6 4\n"
     ]
    },
    {
     "name": "stdout",
     "output_type": "stream",
     "text": [
      "[1, 2, 3, 4, 5, 6, 4]\n"
     ]
    }
   ],
   "source": [
    "n=[int(x) for x in input(\"Enter 5 num with space\").split()]\n",
    "print(n)"
   ]
  },
  {
   "cell_type": "code",
   "execution_count": 33,
   "id": "0b8ca507-85cf-4fe2-9119-2f9bbe4cb082",
   "metadata": {},
   "outputs": [
    {
     "name": "stdin",
     "output_type": "stream",
     "text": [
      "Enter the table size: 5\n"
     ]
    },
    {
     "name": "stdout",
     "output_type": "stream",
     "text": [
      "[1, 2, 3, 4, 5]\n",
      "[2, 4, 6, 8, 10]\n",
      "[3, 6, 9, 12, 15]\n",
      "[4, 8, 12, 16, 20]\n",
      "[5, 10, 15, 20, 25]\n"
     ]
    }
   ],
   "source": [
    "#nested LC.........Loop in a single LC\n",
    "n= int(input(\"Enter the table size:\"))\n",
    "t=[[i*j for j in range(1,n+1)] for i in range(1,n+1)]\n",
    "for r in t:\n",
    "    print(r)\n"
   ]
  },
  {
   "cell_type": "code",
   "execution_count": 41,
   "id": "6ab694a6-6128-4fcb-ac1d-8f6c516c29a3",
   "metadata": {},
   "outputs": [
    {
     "name": "stdin",
     "output_type": "stream",
     "text": [
      "Enter the 9 numbers with spaces 1 2 3 4 5 6 7 8 9\n"
     ]
    },
    {
     "name": "stdout",
     "output_type": "stream",
     "text": [
      "[1, 2, 3]\n",
      "[4, 5, 6]\n",
      "[7, 8, 9]\n"
     ]
    }
   ],
   "source": [
    "n=input(\"Enter the 9 numbers with spaces\").split()\n",
    "if len(n)!= 9:\n",
    "    print(\"Enter exactly 9 num:\")\n",
    "else:\n",
    "    nu=[int(x) for x in n]\n",
    "    m=[[nu[i*3+j] for j in range (3)] for i in range(3)]\n",
    "for r in m:\n",
    "    print(r)"
   ]
  },
  {
   "cell_type": "code",
   "execution_count": 43,
   "id": "cd665416-282d-4d49-b00a-8d6cbbba72f3",
   "metadata": {},
   "outputs": [
    {
     "name": "stdin",
     "output_type": "stream",
     "text": [
      "Enter the 9 numbers with spaces 1 2 3 4 5 6 7 8 9\n"
     ]
    },
    {
     "name": "stdout",
     "output_type": "stream",
     "text": [
      "[1, 2, 3]\n",
      "[4, 5, 6]\n",
      "[7, 8, 9]\n",
      "[1, 2, 3]\n",
      "[4, 5, 6]\n",
      "[7, 8, 9]\n"
     ]
    }
   ],
   "source": [
    "n=input(\"Enter the 9 numbers with spaces\").split()\n",
    "if len(n)!= 9:\n",
    "    print(\"Enter exactly 9 num:\")\n",
    "else:\n",
    "    nu=[int(x) for x in n]\n",
    "    m=[[nu[i*3+j] for j in range (3)] for i in range(3)]\n",
    "    n=[[m[i][j] for j in range(3)] for i in range(3)]\n",
    "for r in m:\n",
    "    print(r)\n",
    "for r in n:\n",
    "    print(r)\n",
    "    "
   ]
  },
  {
   "cell_type": "code",
   "execution_count": 51,
   "id": "d93f9303-75bb-4551-b957-f85102786194",
   "metadata": {},
   "outputs": [
    {
     "name": "stdin",
     "output_type": "stream",
     "text": [
      "Enter size: 3\n",
      "Enter numbers 1 2 3 4 5 6 7 8 9\n"
     ]
    },
    {
     "name": "stdout",
     "output_type": "stream",
     "text": [
      "[1, 2, 3]\n",
      "[4, 5, 6]\n",
      "[7, 8, 9]\n",
      "[1, 2, 3, 4, 5, 6, 7, 8, 9]\n"
     ]
    }
   ],
   "source": [
    "n= int(input(\"Enter size:\"))\n",
    "num=[int(x) for x in input(\"Enter numbers\").split()[:n*n]]\n",
    "mat=[[num[i*n+j]for j in range(n)] for i in range(n)]\n",
    "for k in mat:\n",
    "    print(k)\n",
    "flat=[k for r in mat for k in r]\n",
    "print(flat)"
   ]
  },
  {
   "cell_type": "code",
   "execution_count": 3,
   "id": "7f81dc0a-a548-4f44-b65a-51b7f165ff59",
   "metadata": {},
   "outputs": [
    {
     "name": "stdin",
     "output_type": "stream",
     "text": [
      "Enter size: 2\n",
      "Enter numbers 1 2 3 4\n"
     ]
    },
    {
     "name": "stdout",
     "output_type": "stream",
     "text": [
      "[1, 4]\n",
      "[9, 16]\n"
     ]
    }
   ],
   "source": [
    "'''code to consider a LC to calculate Square of 16 values as nxn matrix and print the list of squares in each row :'''\n",
    "n= int(input(\"Enter size:\"))\n",
    "num=[int(x) for x in input(\"Enter numbers\").split()[:n*n]]\n",
    "mat=[[num[i*n+j]for j in range(n) ] for i in range(n)]\n",
    "matr=[[mat[i][j]**2 for j in range(n)] for i in range(n)]\n",
    "for k in matr:\n",
    "    print(k)"
   ]
  },
  {
   "cell_type": "code",
   "execution_count": 5,
   "id": "4513e823-dbd9-4068-9586-3524ad9a5512",
   "metadata": {},
   "outputs": [
    {
     "name": "stdin",
     "output_type": "stream",
     "text": [
      "Enter size: 2\n",
      "Enter numbers 1 2 3 4\n"
     ]
    },
    {
     "name": "stdout",
     "output_type": "stream",
     "text": [
      "[1, 4]\n",
      "[9, 16]\n"
     ]
    }
   ],
   "source": [
    "n= int(input(\"Enter size:\"))\n",
    "num=[int(x) for x in input(\"Enter numbers\").split()[:n*n]]\n",
    "mat=[[num[i*n+j]**2 for j in range(n)] for i in range(n)]\n",
    "for k in mat:\n",
    "    print(k)"
   ]
  },
  {
   "cell_type": "code",
   "execution_count": 19,
   "id": "bb3c59b6-e4da-4018-8cb2-c1b3bea7d634",
   "metadata": {},
   "outputs": [
    {
     "name": "stdin",
     "output_type": "stream",
     "text": [
      "Enter size: 3\n",
      "Enter numbers 1 2 3 4 5 6 7 8 9\n"
     ]
    },
    {
     "name": "stdout",
     "output_type": "stream",
     "text": [
      "[1, 0, 3]\n",
      "[0, 5, 0]\n",
      "[7, 0, 9]\n"
     ]
    }
   ],
   "source": [
    "n= int(input(\"Enter size:\"))\n",
    "num=[int(x) for x in input(\"Enter numbers\").split()[:n*n]]\n",
    "mat=[[num[i*n+j]if num[i*n+j]%2!=0 else 0 for j in range(n)] for i in range(n)]\n",
    "for k in mat:\n",
    "    print(k)"
   ]
  },
  {
   "cell_type": "code",
   "execution_count": 29,
   "id": "105e3131-f9ca-47a6-8dab-4f79798ba9f0",
   "metadata": {},
   "outputs": [
    {
     "name": "stdin",
     "output_type": "stream",
     "text": [
      "Enter size: 3\n",
      "Enter numbers 1 2 3 4 5 6 7 8 9\n"
     ]
    },
    {
     "name": "stdout",
     "output_type": "stream",
     "text": [
      "[0, 1, 0]\n",
      "[1, 0, 1]\n",
      "[0, 1, 0]\n"
     ]
    }
   ],
   "source": [
    "n= int(input(\"Enter size:\"))\n",
    "num=[int(x) for x in input(\"Enter numbers\").split()[:n*n]]\n",
    "mat=[[1 if num[i*n+j]%2==0 else 0  for j in range(n)] for i in range(n)]\n",
    "for k in mat:\n",
    "    print(k)"
   ]
  },
  {
   "cell_type": "code",
   "execution_count": null,
   "id": "a5690e0c-718e-4aa6-b74d-256e8d9b910d",
   "metadata": {},
   "outputs": [],
   "source": [
    "n= int(input(\"Enter size:\"))\n",
    "num=[int(x) for x in input(\"Enter numbers\").split()[:n*n]]\n",
    "mat=[[num[i*n+j] for j in range(n)] for i in range(n)]\n",
    "\n",
    "for k in mat:\n",
    "    print(k)"
   ]
  },
  {
   "cell_type": "code",
   "execution_count": 31,
   "id": "3169ade8-3697-4599-982d-e4d0245072b5",
   "metadata": {},
   "outputs": [
    {
     "name": "stdout",
     "output_type": "stream",
     "text": [
      "[[11], [13], [17]]\n"
     ]
    }
   ],
   "source": [
    "# Function to check if a number is prime\n",
    "def is_prime(num):\n",
    "    if num < 2:\n",
    "        return False\n",
    "    return all(num % i != 0 for i in range(2, int(num**0.5) + 1))\n",
    "\n",
    "matrix = [\n",
    "    [10, 11, 12],\n",
    "    [13, 14, 15],\n",
    "    [16, 17, 18]\n",
    "]\n",
    "prime_matrix = [[num for num in row if is_prime(num)] for row in matrix]\n",
    "print(prime_matrix)\n"
   ]
  },
  {
   "cell_type": "code",
   "execution_count": null,
   "id": "48da0ebc-d03a-4b62-a080-8ca41367f81a",
   "metadata": {},
   "outputs": [],
   "source": []
  }
 ],
 "metadata": {
  "kernelspec": {
   "display_name": "Python 3 (ipykernel)",
   "language": "python",
   "name": "python3"
  },
  "language_info": {
   "codemirror_mode": {
    "name": "ipython",
    "version": 3
   },
   "file_extension": ".py",
   "mimetype": "text/x-python",
   "name": "python",
   "nbconvert_exporter": "python",
   "pygments_lexer": "ipython3",
   "version": "3.12.7"
  }
 },
 "nbformat": 4,
 "nbformat_minor": 5
}
