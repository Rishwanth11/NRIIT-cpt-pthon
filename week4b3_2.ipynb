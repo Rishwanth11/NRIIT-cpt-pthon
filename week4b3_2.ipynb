{
 "cells": [
  {
   "cell_type": "code",
   "execution_count": 5,
   "id": "c2e0492e-597e-41dd-b0f6-571c0671d1d7",
   "metadata": {},
   "outputs": [
    {
     "name": "stdin",
     "output_type": "stream",
     "text": [
      "Enter the nuumber to inputs 1\n",
      "Enter the nuumber to inputs 2\n",
      "Enter the nuumber to inputs 3\n",
      "Enter the nuumber to inputs 4\n",
      "Enter the nuumber to inputs 5\n"
     ]
    },
    {
     "name": "stdout",
     "output_type": "stream",
     "text": [
      "Even list: [2, 4]\n",
      "odd list: [1, 3, 5]\n"
     ]
    }
   ],
   "source": [
    "'''Mutable type attributes\n",
    "also illustarate multiple attributes by calling a class for its spectifications\n",
    "for example n= 21,32,43,54,65\n",
    "even list:[32,54]\n",
    "odd list:[21,43,65]'''\n",
    "\n",
    "class num:\n",
    "    evens=[]\n",
    "    odds=[]\n",
    "    def __init__(self,n):\n",
    "        self.n=n\n",
    "        if n%2==0:\n",
    "            num.evens.append(n)\n",
    "        else:\n",
    "            num.odds.append(n)\n",
    "a=int(input(\"Enter the nuumber to inputs\"))\n",
    "n1=num(a)\n",
    "b=int(input(\"Enter the nuumber to inputs\"))\n",
    "n2=num(b)\n",
    "c=int(input(\"Enter the nuumber to inputs\"))\n",
    "n3=num(c)\n",
    "d=int(input(\"Enter the nuumber to inputs\"))\n",
    "n4=num(d)\n",
    "e=int(input(\"Enter the nuumber to inputs\"))\n",
    "n5=num(e)\n",
    "print(\"Even list:\",num.evens)\n",
    "print(\"odd list:\",num.odds)"
   ]
  },
  {
   "cell_type": "code",
   "execution_count": 7,
   "id": "ea7e56c4-afa4-4788-93aa-08628dfacd89",
   "metadata": {},
   "outputs": [
    {
     "name": "stdout",
     "output_type": "stream",
     "text": [
      "Even list: [32, 54]\n",
      "odd list: [21, 43, 65]\n"
     ]
    }
   ],
   "source": [
    "class num:\n",
    "    evens=[]\n",
    "    odds=[]\n",
    "    def __init__(self,n):\n",
    "        self.n=n\n",
    "        if n%2==0:\n",
    "            num.evens.append(n)\n",
    "        else:\n",
    "            num.odds.append(n)\n",
    "n1=num(21)\n",
    "n1=num(32)\n",
    "n1=num(43)\n",
    "n1=num(54)\n",
    "n1=num(65)\n",
    "print(\"Even list:\",num.evens)\n",
    "print(\"odd list:\",num.odds)"
   ]
  },
  {
   "cell_type": "code",
   "execution_count": 17,
   "id": "f2866058-8fc0-483e-97a1-03eaa3c302f2",
   "metadata": {},
   "outputs": [
    {
     "name": "stdin",
     "output_type": "stream",
     "text": [
      "Enter a number: 3\n"
     ]
    },
    {
     "name": "stdout",
     "output_type": "stream",
     "text": [
      "Given Value: 3\n",
      "Given Value: 27\n"
     ]
    }
   ],
   "source": [
    "def op(x):\n",
    "    return x**3\n",
    "class abc:\n",
    "    def __init__(self,value):\n",
    "        self.value=value\n",
    "    def display(self):\n",
    "        print(\"Given Value:\",self.value)\n",
    "    def modify(self):\n",
    "        self.value=op(self.value)\n",
    "n=int(input(\"Enter a number:\"))\n",
    "o=abc(n)\n",
    "o.display()\n",
    "o.modify()\n",
    "o.display()"
   ]
  },
  {
   "cell_type": "code",
   "execution_count": 6,
   "id": "78730238-2520-432b-a8b3-446c021c5d8e",
   "metadata": {},
   "outputs": [
    {
     "name": "stdout",
     "output_type": "stream",
     "text": [
      "Student 1: Alice, Courses: ['Math'], Grades: {'Math': 'A'}\n",
      "Student 2: Bob, Courses: ['Physics'], Grades: {'Physics': 'B'}\n"
     ]
    }
   ],
   "source": [
    "class Student:\n",
    "    def __init__(self, name, student_id):\n",
    "        self.name = name\n",
    "        self.student_id = student_id\n",
    "        self.courses = []\n",
    "        self.grades = {}\n",
    "\n",
    "# Create student instances\n",
    "student1 = Student(\"Alice\", \"S001\")\n",
    "student2 = Student(\"Bob\", \"S002\")\n",
    "\n",
    "# Access and modify attributes directly\n",
    "student1.courses.append(\"Math\")\n",
    "student1.grades[\"Math\"] = \"A\"\n",
    "\n",
    "student2.courses.append(\"Physics\")\n",
    "student2.grades[\"Physics\"] = \"B\"\n",
    "\n",
    "# Print basic info to show they are distinct\n",
    "print(f\"Student 1: {student1.name}, Courses: {student1.courses}, Grades: {student1.grades}\")\n",
    "print(f\"Student 2: {student2.name}, Courses: {student2.courses}, Grades: {student2.grades}\")"
   ]
  },
  {
   "cell_type": "code",
   "execution_count": 25,
   "id": "90503c97-52da-41d5-bfc6-9dda5ba2450f",
   "metadata": {},
   "outputs": [
    {
     "name": "stdin",
     "output_type": "stream",
     "text": [
      " Trever\n"
     ]
    },
    {
     "name": "stdout",
     "output_type": "stream",
     "text": [
      "Given Name: Trever\n",
      "Given Name: Rishi\n"
     ]
    }
   ],
   "source": [
    "def op(self):\n",
    "    return \"Rishi\"\n",
    "class abc:\n",
    "    def __init__(self,v):\n",
    "        self.v=v\n",
    "    def display(self):\n",
    "        print(\"Given Name:\",self.v)\n",
    "    def modify(self):\n",
    "        self.v=op(self.v)\n",
    "n=input()\n",
    "a=abc(n)\n",
    "a.display()\n",
    "a.modify()\n",
    "a.display()\n"
   ]
  },
  {
   "cell_type": "code",
   "execution_count": 53,
   "id": "9df66d9b-525e-4314-b1df-2e725edcaf23",
   "metadata": {},
   "outputs": [
    {
     "name": "stdin",
     "output_type": "stream",
     "text": [
      "Enter n1: 11\n",
      "Enter n2: 11.4444\n"
     ]
    },
    {
     "name": "stdout",
     "output_type": "stream",
     "text": [
      "Given Data v1: 11\n",
      "Given Data v2: 11.4444\n",
      "Object.__dict__- {'v1': '11', 'v2': '11.4444'}\n",
      "Object.__doc__- None\n",
      "Class.__name__- abc\n",
      "Object.__module__- __main__\n",
      "class.__base__- <class 'object'>\n"
     ]
    }
   ],
   "source": [
    "class abc:\n",
    "    def __init__(s,v1,v2):\n",
    "        s.v1=v1\n",
    "        s.v2=v2\n",
    "    def display(s):\n",
    "        print(\"Given Data v1:\",s.v1)\n",
    "        print(\"Given Data v2:\",s.v2)\n",
    "n1=input(\"Enter n1:\")\n",
    "n2=input(\"Enter n2:\")\n",
    "o=abc(n1,n2)\n",
    "o.display()\n",
    "print(\"Object.__dict__-\",o.__dict__)\n",
    "print(\"Object.__doc__-\",o.__doc__)\n",
    "print(\"Class.__name__-\",abc.__name__)\n",
    "print(\"Object.__module__-\",o.__module__)\n",
    "print(\"class.__base__-\",abc.__base__)"
   ]
  },
  {
   "cell_type": "code",
   "execution_count": 1,
   "id": "ff8f74fc-9a3a-46ca-ae81-cd155015cc9d",
   "metadata": {},
   "outputs": [
    {
     "name": "stdout",
     "output_type": "stream",
     "text": [
      "<class 'type'>\n",
      "1704\n",
      "48\n"
     ]
    }
   ],
   "source": [
    "'''code to view the memory info in a class ,which gives the type of the classs ,size of the class obj,and size of the instance\n",
    "const: use package-sys for size of \n",
    "given value of num=10'''\n",
    "import sys\n",
    "class A:\n",
    "    n=10\n",
    "a=A()\n",
    "print(type(A))\n",
    "print(sys.getsize(A))"
   ]
  },
  {
   "cell_type": "code",
   "execution_count": 115,
   "id": "456b41ad-269f-46b7-8f41-3cdc7d164528",
   "metadata": {},
   "outputs": [
    {
     "name": "stdin",
     "output_type": "stream",
     "text": [
      "Enter the userpin:- 2222\n",
      "Enter the amount to withdraw:- 1000\n"
     ]
    },
    {
     "name": "stdout",
     "output_type": "stream",
     "text": [
      "Transaction Failed\n"
     ]
    }
   ],
   "source": [
    "'''create a class atm and check the pin user1234\n",
    "define a function to withdraw 2000 /-,balance amount from account 5999, if the amount is over the balance exit and check the pin for accesing the account ..'''\n",
    "class atm:\n",
    "    p=1234\n",
    "    b=5999\n",
    "    def __init__(self,n,a):\n",
    "        self.n=n\n",
    "        self.a=a\n",
    "        if n==atm.p:\n",
    "            print(\"Pin is correct\")\n",
    "            if self.a < 5999:\n",
    "                print(\"Amount Withdrawn\")\n",
    "                y=atm.b-self.a\n",
    "                print(\"Remaining Balnce:\",y)\n",
    "            else:\n",
    "                print(\"Check the pin the balance is low:\")\n",
    "                print(\"Do you want to display the balance:(1/0)\")\n",
    "                q=int(input())\n",
    "                if q == 1:\n",
    "                    print(\"Remaining balance is:\",atm.b)\n",
    "                else:\n",
    "                    print(\"ThankYou\")\n",
    "        else:\n",
    "            print(\"Transaction Failed\")\n",
    "                \n",
    "            \n",
    "\n",
    "n=int(input(\"Enter the userpin:-\"))\n",
    "a=int(input(\"Enter the amount to withdraw:-\"))\n",
    "n1=atm(n,a)"
   ]
  },
  {
   "cell_type": "code",
   "execution_count": null,
   "id": "1bb0e1d5-9977-489e-83d3-fe6d837f33b5",
   "metadata": {},
   "outputs": [],
   "source": []
  }
 ],
 "metadata": {
  "kernelspec": {
   "display_name": "Python 3 (ipykernel)",
   "language": "python",
   "name": "python3"
  },
  "language_info": {
   "codemirror_mode": {
    "name": "ipython",
    "version": 3
   },
   "file_extension": ".py",
   "mimetype": "text/x-python",
   "name": "python",
   "nbconvert_exporter": "python",
   "pygments_lexer": "ipython3",
   "version": "3.12.7"
  }
 },
 "nbformat": 4,
 "nbformat_minor": 5
}
