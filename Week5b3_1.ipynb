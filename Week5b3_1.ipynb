{
 "cells": [
  {
   "cell_type": "code",
   "execution_count": null,
   "id": "8ad08257-7638-41c5-94c1-dad53b385b15",
   "metadata": {},
   "outputs": [],
   "source": [
    "#__del__\n",
    "const:\n",
    "class abc():\n",
    "    def __init__(self,v1,v2...):\n",
    "        self.v1=v1\n",
    "    def __del__(self):\n",
    "        abc.v1\n"
   ]
  },
  {
   "cell_type": "code",
   "execution_count": 13,
   "id": "5b22b5a4-091b-44f4-942d-1fcc31288c61",
   "metadata": {},
   "outputs": [
    {
     "name": "stdout",
     "output_type": "stream",
     "text": [
      "Object variable: 11\n",
      "Class Variable: 1\n",
      "Object variable: 12\n",
      "Class Variable: 2\n",
      "Object variable: 13\n",
      "Class Variable: 3\n"
     ]
    }
   ],
   "source": [
    "'''del method / class variable with const access'''\n",
    "class Rishi():\n",
    "    class_var=0\n",
    "    def __init__(self,var):\n",
    "        Rishi.class_var +=1\n",
    "        self.var=var\n",
    "        print(\"Object variable:\",var)\n",
    "        print(\"Class Variable:\",Rishi.class_var)\n",
    "obj1=Rishi(11)\n",
    "obj2=Rishi(12)\n",
    "obj3=Rishi(13)\n",
    "                "
   ]
  },
  {
   "cell_type": "code",
   "execution_count": 19,
   "id": "62fd3e88-5c4b-440a-a8f9-51b1c0bc1f60",
   "metadata": {},
   "outputs": [
    {
     "name": "stdout",
     "output_type": "stream",
     "text": [
      "Class Variable: 0\n",
      "Object variable: 11\n",
      "Class Variable: 1\n",
      "Object variable: 12\n",
      "Class Variable: 2\n",
      "Object variable: 13\n",
      "Class Variable: 3\n",
      "Object var 11 is deleted\n",
      "Object var 12 is deleted\n",
      "Object var 13 is deleted\n"
     ]
    }
   ],
   "source": [
    "'''del method / class variable with const access'''\n",
    "class Rishi():\n",
    "    class_var=0\n",
    "    print(\"Class Variable:\",class_var)\n",
    "    def __init__(self,var):\n",
    "        Rishi.class_var +=1\n",
    "        self.var=var\n",
    "        print(\"Object variable:\",var)\n",
    "        print(\"Class Variable:\",Rishi.class_var)\n",
    "    def __del__(self):\n",
    "        Rishi.class_var -=1\n",
    "        print(\"Object var %d is deleted\" %self.var)  \n",
    "obj1=Rishi(11)\n",
    "obj2=Rishi(12)\n",
    "obj3=Rishi(13)\n",
    "del obj1\n",
    "del obj2\n",
    "del obj3"
   ]
  },
  {
   "cell_type": "code",
   "execution_count": 5,
   "id": "41a5edb9-785b-4b15-a02b-9ff4f1eac9ac",
   "metadata": {},
   "outputs": [
    {
     "name": "stdin",
     "output_type": "stream",
     "text": [
      "Enter the value of a: 10\n",
      "Enter the value of b: 5\n"
     ]
    },
    {
     "name": "stdout",
     "output_type": "stream",
     "text": [
      "Calc Obj Created...\n",
      "ADD: 15\n",
      "SUB: 5\n",
      "Created Obj is deleted\n"
     ]
    }
   ],
   "source": [
    "class calc:\n",
    "    def __init__(self,a,b):\n",
    "        self.a=a\n",
    "        self.b=b\n",
    "        print(\"Calc Obj Created...\")\n",
    "    def add(self):\n",
    "        return self.a+self.b\n",
    "    def sub(self):\n",
    "        return self.a-self.b\n",
    "    def  __del__(self):\n",
    "        print(\"Created Obj is deleted\")\n",
    "a= int(input(\"Enter the value of a:\"))\n",
    "b=int(input(\"Enter the value of b:\"))\n",
    "c= calc(a,b)\n",
    "print(\"ADD:\",c.add())\n",
    "print(\"SUB:\",c.sub())\n",
    "del c"
   ]
  },
  {
   "cell_type": "code",
   "execution_count": 13,
   "id": "6ed26ae4-a9cb-4bc4-bcc2-c5ea60a11e90",
   "metadata": {},
   "outputs": [
    {
     "name": "stdin",
     "output_type": "stream",
     "text": [
      "Enter the radius: 10\n"
     ]
    },
    {
     "name": "stdout",
     "output_type": "stream",
     "text": [
      "area is: 314.1592653589793\n",
      "Circum id: 62.83185307179586\n"
     ]
    }
   ],
   "source": [
    "'''code to calc area and circumference of a circle by using a class rectangle,create a constructor and seperate functions for area circ and delete the constructot,import math pi value'''\n",
    "class rect:\n",
    "    from math import pi as p\n",
    "    def __init__(self,r):\n",
    "        self.r=r\n",
    "    def area(self):\n",
    "        return self.p*self.r**2\n",
    "    def circ(self):\n",
    "        return 2*self.p*self.r\n",
    "r=int(input(\"Enter the radius:\"))\n",
    "c=rect(r)\n",
    "print(\"area is:\",c.area())\n",
    "print(\"Circum id:\",c.circ())\n"
   ]
  },
  {
   "cell_type": "code",
   "execution_count": null,
   "id": "c2346a44-6959-4933-8837-f94fd9d64024",
   "metadata": {},
   "outputs": [],
   "source": [
    "Special Methods:\n",
    "__cmp__() - > Object Comparision \n",
    "__len__() -> len(objects)\n",
    "__repr__() -> str representation \n",
    "__call__() -> n args"
   ]
  },
  {
   "cell_type": "code",
   "execution_count": 17,
   "id": "4dddf531-6b28-42a1-98c7-0ec640bf9492",
   "metadata": {},
   "outputs": [
    {
     "name": "stdout",
     "output_type": "stream",
     "text": [
      "6\n",
      "[1, 2, 3, 100, 5, 6, 7, 8, 9]\n"
     ]
    }
   ],
   "source": [
    "class Numbers:\n",
    "    def __init__(self,myself):\n",
    "        self.myself=myself\n",
    "    def __getitem__(self,index):\n",
    "        return self.myself[index]\n",
    "    def __setitem__(self,index,val):\n",
    "        self.myself[index]=val\n",
    "nl=Numbers([1,2,3,4,5,6,7,8,9])\n",
    "print(nl[5])\n",
    "nl[3]=100\n",
    "print(nl.myself)"
   ]
  },
  {
   "cell_type": "code",
   "execution_count": 1,
   "id": "5271b13b-a3d1-4057-8047-8b5ef16d1210",
   "metadata": {},
   "outputs": [
    {
     "name": "stdout",
     "output_type": "stream",
     "text": [
      "Sum of row 0: 3\n",
      "Sum of row 1: 7\n",
      "NewSum of row 1: 30\n"
     ]
    }
   ],
   "source": [
    "class RS:\n",
    "    def __init__(self,mat):\n",
    "        self.mat=mat\n",
    "    def __getitem__(self,row):\n",
    "        return sum(self.mat[row])\n",
    "    def __setitem__(self,row,new_row):\n",
    "        self.mat[row]=new_row\n",
    "m=RS([[1,2],[3,4],[5,]])\n",
    "print(\"Sum of row 0:\",m[0])\n",
    "print(\"Sum of row 1:\",m[1])\n",
    "m[1]=[10,20]\n",
    "print(\"NewSum of row 1:\",m[1])"
   ]
  }
 ],
 "metadata": {
  "kernelspec": {
   "display_name": "Python 3 (ipykernel)",
   "language": "python",
   "name": "python3"
  },
  "language_info": {
   "codemirror_mode": {
    "name": "ipython",
    "version": 3
   },
   "file_extension": ".py",
   "mimetype": "text/x-python",
   "name": "python",
   "nbconvert_exporter": "python",
   "pygments_lexer": "ipython3",
   "version": "3.12.7"
  }
 },
 "nbformat": 4,
 "nbformat_minor": 5
}
