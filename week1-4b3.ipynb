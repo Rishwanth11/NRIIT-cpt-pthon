{
 "cells": [
  {
   "cell_type": "code",
   "execution_count": null,
   "id": "688c255c-2c2a-4378-a8de-8dd0880a7d0d",
   "metadata": {},
   "outputs": [],
   "source": [
    "\n",
    "'''\n",
    "RECURSION\n",
    "Tail recursion\n",
    "Head recursion/Direct recursion\n",
    "Indirect recursion\n",
    "\n",
    "'''"
   ]
  },
  {
   "cell_type": "code",
   "execution_count": 11,
   "id": "c83df5d4-b7c7-4133-a22c-517e193bc9c8",
   "metadata": {},
   "outputs": [
    {
     "name": "stdin",
     "output_type": "stream",
     "text": [
      "enter the value: 10\n"
     ]
    },
    {
     "name": "stdout",
     "output_type": "stream",
     "text": [
      "1 2 3 4 5 6 7 8 9 10 "
     ]
    }
   ],
   "source": [
    "\n",
    "# linear/head recursion to print n numbers\n",
    "def hrec(n):\n",
    "    if n==0:\n",
    "        return \n",
    "    hrec(n-1)\n",
    "    print(n,end=\" \")\n",
    "num=int(input(\"enter the value:\"))\n",
    "hrec(num)"
   ]
  },
  {
   "cell_type": "code",
   "execution_count": 7,
   "id": "15aaae52-e609-444c-9a7a-81bdee49d4ad",
   "metadata": {},
   "outputs": [
    {
     "name": "stdin",
     "output_type": "stream",
     "text": [
      "enter the value: 10\n"
     ]
    },
    {
     "name": "stdout",
     "output_type": "stream",
     "text": [
      "10 9 8 7 6 5 4 3 2 1 "
     ]
    }
   ],
   "source": [
    "\n",
    "# linear/tail recursion to print n numbers in reverse order\n",
    "def hrec(n):\n",
    "    if n==0:\n",
    "        return \n",
    "    print(n,end=\" \")\n",
    "    return hrec(n-1)\n",
    "num=int(input(\"enter the value:\"))\n",
    "hrec(num)"
   ]
  },
  {
   "cell_type": "code",
   "execution_count": 13,
   "id": "d80e0a47-9304-4c72-95ae-60c4b1ee86a7",
   "metadata": {},
   "outputs": [
    {
     "name": "stdin",
     "output_type": "stream",
     "text": [
      "enter a number: 5\n"
     ]
    },
    {
     "name": "stdout",
     "output_type": "stream",
     "text": [
      "Factorial of 5 is:120\n"
     ]
    }
   ],
   "source": [
    "\n",
    "#FACTORIAL using Linear recursion\n",
    "def factorial(n):\n",
    "    if n==0 or n==1:\n",
    "        return 1\n",
    "    return n*factorial(n-1)\n",
    "num=int(input(\"enter a number:\"))\n",
    "print(f\"Factorial of {num} is:{factorial(num)}\")"
   ]
  },
  {
   "cell_type": "code",
   "execution_count": 17,
   "id": "5299091a-25d9-4583-85ce-cf8731b4bbde",
   "metadata": {},
   "outputs": [
    {
     "name": "stdin",
     "output_type": "stream",
     "text": [
      "enter a number: 2\n"
     ]
    },
    {
     "name": "stdout",
     "output_type": "stream",
     "text": [
      "the sum of 2 numbers is :3\n"
     ]
    }
   ],
   "source": [
    "\n",
    "#sum of n digits\n",
    "def sum_n(n):\n",
    "    if n==0:\n",
    "        return 0\n",
    "    return int(n) + sum_n(n-1)\n",
    "num=int(input(\"enter a number:\"))\n",
    "print(f\"the sum of {num} numbers is :{sum_n(num)}\")"
   ]
  },
  {
   "cell_type": "code",
   "execution_count": 21,
   "id": "a1b93de6-7300-4195-808d-2a2ccda727ca",
   "metadata": {},
   "outputs": [
    {
     "name": "stdin",
     "output_type": "stream",
     "text": [
      "enter the value of n: 25\n"
     ]
    },
    {
     "name": "stdout",
     "output_type": "stream",
     "text": [
      "one: 25\n",
      "two: 24\n",
      "one: 12\n",
      "two: 11\n",
      "one: 5\n",
      "two: 4\n",
      "one: 2\n",
      "two: 1\n"
     ]
    }
   ],
   "source": [
    "\n",
    "#indirect recursion\n",
    "def one(n):\n",
    "    if n>0:\n",
    "        print(\"one:\",n)\n",
    "        two(n-1)\n",
    "def two(n):\n",
    "    if n>0:\n",
    "        print(\"two:\",n)\n",
    "        one(n//2)\n",
    "num=int(input(\"enter the value of n:\"))\n",
    "one(num)"
   ]
  },
  {
   "cell_type": "code",
   "execution_count": 25,
   "id": "4805f45c-c437-42b8-8f23-6dd1b1a1d0fa",
   "metadata": {},
   "outputs": [
    {
     "name": "stdin",
     "output_type": "stream",
     "text": [
      "enter a number: 3\n"
     ]
    },
    {
     "name": "stdout",
     "output_type": "stream",
     "text": [
      "3 is even ? False\n"
     ]
    }
   ],
   "source": [
    "\n",
    "'''\n",
    "write a code to check the given number is even or odd using indirect recursion method with boolean output \n",
    "input:5\n",
    "output: 5 is even? False'''\n",
    "def is_even(n):\n",
    "    if n==0:\n",
    "        return True\n",
    "    return is_odd(n-1)\n",
    "def is_odd(n):\n",
    "    if n==0:\n",
    "        return False\n",
    "    return is_even(n-1)\n",
    "num=int(input(\"enter a number:\"))\n",
    "print(num,\"is even ?\",is_even(num))"
   ]
  },
  {
   "cell_type": "code",
   "execution_count": 27,
   "id": "aa9148cf-a938-49dc-ba99-7ca36f565a93",
   "metadata": {},
   "outputs": [
    {
     "name": "stdin",
     "output_type": "stream",
     "text": [
      "enter a number: 5\n"
     ]
    },
    {
     "name": "stdout",
     "output_type": "stream",
     "text": [
      "5\n",
      "4\n",
      "3\n",
      "3\n"
     ]
    }
   ],
   "source": [
    "\n",
    "'''\n",
    "Tree recursion\n",
    "'''\n",
    "def tree(n):\n",
    "    if n<3:\n",
    "        return\n",
    "    print(n)\n",
    "    tree(n-1)\n",
    "    tree(n-2)\n",
    "a=int(input(\"enter a number:\"))\n",
    "tree(a)"
   ]
  },
  {
   "cell_type": "code",
   "execution_count": 37,
   "id": "83612105-532d-45eb-86be-b81906d6ce24",
   "metadata": {},
   "outputs": [
    {
     "name": "stdout",
     "output_type": "stream",
     "text": [
      "24\n"
     ]
    }
   ],
   "source": [
    "\n",
    "def nest(n):\n",
    "    if n>10:\n",
    "        return n-1\n",
    "    return nest(nest(n+1))\n",
    "print(nest(25))"
   ]
  },
  {
   "cell_type": "code",
   "execution_count": null,
   "id": "7c541067-fbe2-426a-90a4-7bc83b132d5c",
   "metadata": {},
   "outputs": [],
   "source": []
  }
 ],
 "metadata": {
  "kernelspec": {
   "display_name": "Python 3 (ipykernel)",
   "language": "python",
   "name": "python3"
  },
  "language_info": {
   "codemirror_mode": {
    "name": "ipython",
    "version": 3
   },
   "file_extension": ".py",
   "mimetype": "text/x-python",
   "name": "python",
   "nbconvert_exporter": "python",
   "pygments_lexer": "ipython3",
   "version": "3.12.7"
  }
 },
 "nbformat": 4,
 "nbformat_minor": 5
}
