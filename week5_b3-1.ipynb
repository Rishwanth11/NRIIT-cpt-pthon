{
 "cells": [
  {
   "cell_type": "code",
   "execution_count": 7,
   "id": "8e997eb3-bc4c-44cd-87f0-0acba7c577e0",
   "metadata": {},
   "outputs": [
    {
     "name": "stdout",
     "output_type": "stream",
     "text": [
      "Engine Started...\n",
      "The car is being Drone\n"
     ]
    }
   ],
   "source": [
    "class vehicle:\n",
    "    def start_engine(self):\n",
    "        print(\"Engine Started...\")\n",
    "class car(vehicle):\n",
    "    def drive(self):\n",
    "        print(\"The car is being Drone\")\n",
    "c= car()\n",
    "c.start_engine()\n",
    "c.drive()"
   ]
  },
  {
   "cell_type": "code",
   "execution_count": 11,
   "id": "d9adade8-57bd-4ee8-8b35-013a6fa847df",
   "metadata": {},
   "outputs": [
    {
     "name": "stdout",
     "output_type": "stream",
     "text": [
      "I am a student\n",
      "The student is Studying\n"
     ]
    }
   ],
   "source": [
    "#single inheritance\n",
    "class person:#parent class\n",
    "    def info(s):\n",
    "        print(\"I am a student\")\n",
    "class student(person):#child class\n",
    "    def study(s):\n",
    "        print(\"The student is Studying\")\n",
    "\n",
    "s=student()\n",
    "s.info()\n",
    "s.study()"
   ]
  },
  {
   "cell_type": "code",
   "execution_count": 27,
   "id": "51fe0538-1c9d-429e-a27c-a9b29a0047a5",
   "metadata": {},
   "outputs": [
    {
     "name": "stdin",
     "output_type": "stream",
     "text": [
      "Enter the 1 num: 1\n",
      "Enter the 2 num: 23\n"
     ]
    },
    {
     "name": "stdout",
     "output_type": "stream",
     "text": [
      "24\n"
     ]
    }
   ],
   "source": [
    "'''code to perform addition operation using superclass and user inputand subclass as operation printtheummated value at subclass'''\n",
    "class user:\n",
    "    def in_put(s):\n",
    "        s.a=int(input(\"Enter the 1 num:\"))\n",
    "        s.b=int(input(\"Enter the 2 num:\"))\n",
    "class add(user):\n",
    "    def sum_is(s):\n",
    "         c=s.a+s.b\n",
    "         print(c)\n",
    "\n",
    "c=add()\n",
    "c.in_put()\n",
    "c.sum_is()"
   ]
  },
  {
   "cell_type": "code",
   "execution_count": 40,
   "id": "720beba5-8276-4a5c-b6e7-bff2a29ff031",
   "metadata": {},
   "outputs": [
    {
     "name": "stdin",
     "output_type": "stream",
     "text": [
      "Enter the numerator: 2\n",
      "Enter the denominator: 2\n"
     ]
    },
    {
     "name": "stdout",
     "output_type": "stream",
     "text": [
      "1.0\n"
     ]
    }
   ],
   "source": [
    "'''code to calculate normal division by considering input in superclass and evaltion in sub class ,where zero division error must be handled'''\n",
    "class user:\n",
    "    def in_put(s):\n",
    "        s.a=int(input(\"Enter the numerator:\"))\n",
    "        s.b=int(input(\"Enter the denominator:\"))\n",
    "class div(user):\n",
    "    def div_is(s):\n",
    "        try:\n",
    "            p=s.a/s.b\n",
    "            print(p)\n",
    "        except ZeroDivisionError:\n",
    "            print(\"The denominator should not be zero\")\n",
    "\n",
    "c=div()\n",
    "c.in_put()\n",
    "c.div_is()"
   ]
  },
  {
   "cell_type": "code",
   "execution_count": null,
   "id": "308780f9-56c4-46eb-b9d6-518961c82295",
   "metadata": {},
   "outputs": [],
   "source": [
    "name=input()"
   ]
  },
  {
   "cell_type": "code",
   "execution_count": 48,
   "id": "1fe63b7e-e548-4abc-99ab-b9983fcceb8b",
   "metadata": {},
   "outputs": [
    {
     "name": "stdout",
     "output_type": "stream",
     "text": [
      "Is 4 even? True\n",
      "Is 7 even? False\n",
      "Is 4 odd? False\n",
      "Is 7 odd? True\n",
      "Is -1 even? False\n"
     ]
    }
   ],
   "source": [
    "def even(number):\n",
    "    if number == 0:\n",
    "        return True\n",
    "    elif number == 1:\n",
    "        return False\n",
    "    elif number < 0:\n",
    "        return even(-number)\n",
    "    else:\n",
    "        return odd(number - 1)\n",
    "def odd(number):\n",
    "    if number == 0:\n",
    "        return False\n",
    "    elif number == 1:\n",
    "        return True\n",
    "    elif number < 0:\n",
    "        return odd(-number)\n",
    "    else:\n",
    "        return even(number - 1)\n",
    "print(f\"Is 4 even? {even(4)}\")    \n",
    "print(f\"Is 7 even? {even(7)}\")    \n",
    "print(f\"Is 4 odd? {odd(4)}\")    \n",
    "print(f\"Is 7 odd? {odd(7)}\")    \n",
    "print(f\"Is -1 odd? {odd(-1)}\")\n",
    "print(f\"Is -2 even? {even(-2)}\")"
   ]
  },
  {
   "cell_type": "code",
   "execution_count": 52,
   "id": "f933dcc8-6ad9-4fd6-828d-7f522db16c53",
   "metadata": {},
   "outputs": [
    {
     "name": "stdin",
     "output_type": "stream",
     "text": [
      "Enter the number to get all the Even or Odd: 20\n"
     ]
    },
    {
     "name": "stdout",
     "output_type": "stream",
     "text": [
      "Odd Numbers are: 1\n",
      "Even numbers are: 2\n",
      "Odd Numbers are: 3\n",
      "Even numbers are: 4\n",
      "Odd Numbers are: 5\n",
      "Even numbers are: 6\n",
      "Odd Numbers are: 7\n",
      "Even numbers are: 8\n",
      "Odd Numbers are: 9\n",
      "Even numbers are: 10\n",
      "Odd Numbers are: 11\n",
      "Even numbers are: 12\n",
      "Odd Numbers are: 13\n",
      "Even numbers are: 14\n",
      "Odd Numbers are: 15\n",
      "Even numbers are: 16\n",
      "Odd Numbers are: 17\n",
      "Even numbers are: 18\n",
      "Odd Numbers are: 19\n",
      "Even numbers are: 20\n"
     ]
    }
   ],
   "source": [
    "n=int(input(\"Enter the number to get all the Even or Odd:\"))\n",
    "for i in range(1,n+1):\n",
    "    if i%2==0:\n",
    "        print(\"Even numbers are:\",i)\n",
    "    elif i%2!=0:\n",
    "        print(\"Odd Numbers are:\",i)\n",
    "    i+=1\n",
    "    "
   ]
  },
  {
   "cell_type": "code",
   "execution_count": 62,
   "id": "167e377f-9171-4254-b3b2-615025959687",
   "metadata": {},
   "outputs": [
    {
     "name": "stdin",
     "output_type": "stream",
     "text": [
      " 1\n",
      " 2\n"
     ]
    },
    {
     "name": "stdout",
     "output_type": "stream",
     "text": [
      "None\n"
     ]
    }
   ],
   "source": [
    "def cal(a,b):\n",
    "    def add():\n",
    "        return a+b\n",
    "    def mul():\n",
    "        return a*b\n",
    "a=int(input())\n",
    "b=int(input())\n",
    "print(cal(a,b))"
   ]
  },
  {
   "cell_type": "code",
   "execution_count": 72,
   "id": "3f9c9e96-143a-4d40-b7ca-4d028b8c43bd",
   "metadata": {},
   "outputs": [
    {
     "data": {
      "text/plain": [
       "'for operation, result in results.items():\\n    print(f\"{operation}: {result}\")'"
      ]
     },
     "execution_count": 72,
     "metadata": {},
     "output_type": "execute_result"
    }
   ],
   "source": [
    "\n",
    "def arithmetic_operations(a, b):\n",
    "    # Nested function for addition\n",
    "    def add():\n",
    "        return a + b\n",
    "\n",
    "    # Nested function for subtraction\n",
    "    def subtract():\n",
    "        return a - b\n",
    "\n",
    "    # Nested function for multiplication\n",
    "    def multiply():\n",
    "        return a * b\n",
    "\n",
    "    # Nested function for division\n",
    "    def divide():\n",
    "        return a / b if b != 0 else \"Division by zero is not allowed\"\n",
    "\n",
    "    # Returning results as a dictionary\n",
    "    return {\n",
    "        \"Addition\": add(),\n",
    "        \"Subtraction\": subtract(),\n",
    "        \"Multiplication\": multiply(),\n",
    "        \"Division\": divide()\n",
    "    }\n",
    "\n",
    "# Example usage\n",
    "results = arithmetic_operations(10, 5)\n",
    "for operation, result in results.items():\n",
    "    print(f\"{operation}: {result}\")"
   ]
  },
  {
   "cell_type": "code",
   "execution_count": null,
   "id": "cf079613-6b06-4574-a9dc-4ff2382f1e2b",
   "metadata": {},
   "outputs": [],
   "source": []
  },
  {
   "cell_type": "code",
   "execution_count": 93,
   "id": "abb382b2-dee6-4fe8-b9eb-1d6057b6faba",
   "metadata": {},
   "outputs": [
    {
     "ename": "TypeError",
     "evalue": "input.__init__() takes 1 positional argument but 2 were given",
     "output_type": "error",
     "traceback": [
      "\u001b[1;31m---------------------------------------------------------------------------\u001b[0m",
      "\u001b[1;31mTypeError\u001b[0m                                 Traceback (most recent call last)",
      "Cell \u001b[1;32mIn[93], line 24\u001b[0m\n\u001b[0;32m     21\u001b[0m         \u001b[38;5;28mprint\u001b[39m(\u001b[38;5;124mf\u001b[39m\u001b[38;5;124m\"\u001b[39m\u001b[38;5;124mSum: \u001b[39m\u001b[38;5;132;01m{\u001b[39;00ms\u001b[38;5;241m.\u001b[39madd()\u001b[38;5;132;01m}\u001b[39;00m\u001b[38;5;124m\"\u001b[39m)\n\u001b[0;32m     22\u001b[0m         \u001b[38;5;28mprint\u001b[39m(\u001b[38;5;124mf\u001b[39m\u001b[38;5;124m\"\u001b[39m\u001b[38;5;124mProduct: \u001b[39m\u001b[38;5;132;01m{\u001b[39;00ms\u001b[38;5;241m.\u001b[39mmul()\u001b[38;5;132;01m}\u001b[39;00m\u001b[38;5;124m\"\u001b[39m)\n\u001b[1;32m---> 24\u001b[0m r \u001b[38;5;241m=\u001b[39m result()\n\u001b[0;32m     25\u001b[0m r\u001b[38;5;241m.\u001b[39mdisplay()\n",
      "Cell \u001b[1;32mIn[93], line 18\u001b[0m, in \u001b[0;36mresult.__init__\u001b[1;34m(s)\u001b[0m\n\u001b[0;32m     17\u001b[0m \u001b[38;5;28;01mdef\u001b[39;00m \u001b[38;5;21m__init__\u001b[39m(s):\n\u001b[1;32m---> 18\u001b[0m     \u001b[38;5;28msuper\u001b[39m()\u001b[38;5;241m.\u001b[39m\u001b[38;5;21m__init__\u001b[39m()\n",
      "Cell \u001b[1;32mIn[93], line 8\u001b[0m, in \u001b[0;36moperate.__init__\u001b[1;34m(s)\u001b[0m\n\u001b[0;32m      7\u001b[0m \u001b[38;5;28;01mdef\u001b[39;00m \u001b[38;5;21m__init__\u001b[39m(s):\n\u001b[1;32m----> 8\u001b[0m     \u001b[38;5;28msuper\u001b[39m()\u001b[38;5;241m.\u001b[39m\u001b[38;5;21m__init__\u001b[39m()\n",
      "Cell \u001b[1;32mIn[93], line 3\u001b[0m, in \u001b[0;36mInput.__init__\u001b[1;34m(s)\u001b[0m\n\u001b[0;32m      2\u001b[0m \u001b[38;5;28;01mdef\u001b[39;00m \u001b[38;5;21m__init__\u001b[39m(s):\n\u001b[1;32m----> 3\u001b[0m     s\u001b[38;5;241m.\u001b[39ma \u001b[38;5;241m=\u001b[39m (\u001b[38;5;28minput\u001b[39m(\u001b[38;5;124m\"\u001b[39m\u001b[38;5;124mEnter 1: \u001b[39m\u001b[38;5;124m\"\u001b[39m))\n\u001b[0;32m      4\u001b[0m     s\u001b[38;5;241m.\u001b[39mb \u001b[38;5;241m=\u001b[39m (\u001b[38;5;28minput\u001b[39m(\u001b[38;5;124m\"\u001b[39m\u001b[38;5;124mEnter 2: \u001b[39m\u001b[38;5;124m\"\u001b[39m))\n",
      "\u001b[1;31mTypeError\u001b[0m: input.__init__() takes 1 positional argument but 2 were given"
     ]
    }
   ],
   "source": [
    "class Input:\n",
    "    def __init__(s):\n",
    "        s.a = float(input(\"Enter 1: \"))\n",
    "        s.b = float(input(\"Enter 2: \"))\n",
    "\n",
    "class operate(Input):\n",
    "    def __init__(s):\n",
    "        super().__init__()\n",
    "\n",
    "    def add(s):\n",
    "        return s.a + s.b\n",
    "\n",
    "    def mul(s):\n",
    "        return s.a * s.b\n",
    "\n",
    "class result(operate):\n",
    "    def __init__(s):\n",
    "        super().__init__()\n",
    "\n",
    "    def display(s):\n",
    "        print(f\"Sum: {s.add()}\")\n",
    "        print(f\"Product: {s.mul()}\")\n",
    "\n",
    "r = result()\n",
    "r.display()"
   ]
  }
 ],
 "metadata": {
  "kernelspec": {
   "display_name": "Python 3 (ipykernel)",
   "language": "python",
   "name": "python3"
  },
  "language_info": {
   "codemirror_mode": {
    "name": "ipython",
    "version": 3
   },
   "file_extension": ".py",
   "mimetype": "text/x-python",
   "name": "python",
   "nbconvert_exporter": "python",
   "pygments_lexer": "ipython3",
   "version": "3.12.7"
  }
 },
 "nbformat": 4,
 "nbformat_minor": 5
}
